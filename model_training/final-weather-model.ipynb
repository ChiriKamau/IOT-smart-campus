{
 "cells": [
  {
   "cell_type": "code",
   "execution_count": 1,
   "id": "92bfffb8",
   "metadata": {
    "_cell_guid": "b1076dfc-b9ad-4769-8c92-a6c4dae69d19",
    "_uuid": "8f2839f25d086af736a60e9eeb907d3b93b6e0e5",
    "execution": {
     "iopub.execute_input": "2023-06-05T08:41:33.958288Z",
     "iopub.status.busy": "2023-06-05T08:41:33.957665Z",
     "iopub.status.idle": "2023-06-05T08:41:33.968722Z",
     "shell.execute_reply": "2023-06-05T08:41:33.967740Z"
    },
    "papermill": {
     "duration": 0.021926,
     "end_time": "2023-06-05T08:41:33.971258",
     "exception": false,
     "start_time": "2023-06-05T08:41:33.949332",
     "status": "completed"
    },
    "tags": []
   },
   "outputs": [],
   "source": [
    "import pandas as pd"
   ]
  },
  {
   "cell_type": "code",
   "execution_count": 2,
   "id": "e20c8759",
   "metadata": {
    "execution": {
     "iopub.execute_input": "2023-06-05T08:41:33.985271Z",
     "iopub.status.busy": "2023-06-05T08:41:33.984360Z",
     "iopub.status.idle": "2023-06-05T08:41:34.154114Z",
     "shell.execute_reply": "2023-06-05T08:41:34.153106Z"
    },
    "papermill": {
     "duration": 0.179518,
     "end_time": "2023-06-05T08:41:34.156790",
     "exception": false,
     "start_time": "2023-06-05T08:41:33.977272",
     "status": "completed"
    },
    "tags": []
   },
   "outputs": [
    {
     "data": {
      "text/html": [
       "<div>\n",
       "<style scoped>\n",
       "    .dataframe tbody tr th:only-of-type {\n",
       "        vertical-align: middle;\n",
       "    }\n",
       "\n",
       "    .dataframe tbody tr th {\n",
       "        vertical-align: top;\n",
       "    }\n",
       "\n",
       "    .dataframe thead th {\n",
       "        text-align: right;\n",
       "    }\n",
       "</style>\n",
       "<table border=\"1\" class=\"dataframe\">\n",
       "  <thead>\n",
       "    <tr style=\"text-align: right;\">\n",
       "      <th></th>\n",
       "      <th>date_time</th>\n",
       "      <th>humidity</th>\n",
       "      <th>pressure</th>\n",
       "      <th>tempC</th>\n",
       "      <th>precipMM</th>\n",
       "    </tr>\n",
       "  </thead>\n",
       "  <tbody>\n",
       "    <tr>\n",
       "      <th>0</th>\n",
       "      <td>2013-05-16 00:00:00</td>\n",
       "      <td>86</td>\n",
       "      <td>1016</td>\n",
       "      <td>15</td>\n",
       "      <td>0</td>\n",
       "    </tr>\n",
       "    <tr>\n",
       "      <th>1</th>\n",
       "      <td>2013-05-16 01:00:00</td>\n",
       "      <td>88</td>\n",
       "      <td>1016</td>\n",
       "      <td>15</td>\n",
       "      <td>0</td>\n",
       "    </tr>\n",
       "    <tr>\n",
       "      <th>2</th>\n",
       "      <td>2013-05-16 02:00:00</td>\n",
       "      <td>90</td>\n",
       "      <td>1016</td>\n",
       "      <td>14</td>\n",
       "      <td>0</td>\n",
       "    </tr>\n",
       "    <tr>\n",
       "      <th>3</th>\n",
       "      <td>2013-05-16 03:00:00</td>\n",
       "      <td>91</td>\n",
       "      <td>1016</td>\n",
       "      <td>14</td>\n",
       "      <td>0</td>\n",
       "    </tr>\n",
       "    <tr>\n",
       "      <th>4</th>\n",
       "      <td>2013-05-16 04:00:00</td>\n",
       "      <td>92</td>\n",
       "      <td>1016</td>\n",
       "      <td>14</td>\n",
       "      <td>0</td>\n",
       "    </tr>\n",
       "  </tbody>\n",
       "</table>\n",
       "</div>"
      ],
      "text/plain": [
       "             date_time  humidity  pressure  tempC  precipMM\n",
       "0  2013-05-16 00:00:00        86      1016     15         0\n",
       "1  2013-05-16 01:00:00        88      1016     15         0\n",
       "2  2013-05-16 02:00:00        90      1016     14         0\n",
       "3  2013-05-16 03:00:00        91      1016     14         0\n",
       "4  2013-05-16 04:00:00        92      1016     14         0"
      ]
     },
     "execution_count": 2,
     "metadata": {},
     "output_type": "execute_result"
    }
   ],
   "source": [
    "df = pd.read_csv('/kaggle/input/weathernyeri-2023-2013/tiny_data.csv',sep=\",\")  #read the csv file\n",
    "df.head() "
   ]
  },
  {
   "cell_type": "code",
   "execution_count": 3,
   "id": "9a290345",
   "metadata": {
    "execution": {
     "iopub.execute_input": "2023-06-05T08:41:34.170869Z",
     "iopub.status.busy": "2023-06-05T08:41:34.170469Z",
     "iopub.status.idle": "2023-06-05T08:41:34.182987Z",
     "shell.execute_reply": "2023-06-05T08:41:34.181837Z"
    },
    "papermill": {
     "duration": 0.022374,
     "end_time": "2023-06-05T08:41:34.185336",
     "exception": false,
     "start_time": "2023-06-05T08:41:34.162962",
     "status": "completed"
    },
    "tags": []
   },
   "outputs": [],
   "source": [
    "# Prepare the data for training\n",
    "\n",
    "X = df[['humidity', 'pressure', 'tempC']]\n",
    "y = df['precipMM']"
   ]
  },
  {
   "cell_type": "code",
   "execution_count": 4,
   "id": "c16291fc",
   "metadata": {
    "execution": {
     "iopub.execute_input": "2023-06-05T08:41:34.199149Z",
     "iopub.status.busy": "2023-06-05T08:41:34.198560Z",
     "iopub.status.idle": "2023-06-05T08:41:34.208652Z",
     "shell.execute_reply": "2023-06-05T08:41:34.207432Z"
    },
    "papermill": {
     "duration": 0.019989,
     "end_time": "2023-06-05T08:41:34.211285",
     "exception": false,
     "start_time": "2023-06-05T08:41:34.191296",
     "status": "completed"
    },
    "tags": []
   },
   "outputs": [
    {
     "data": {
      "text/html": [
       "<div>\n",
       "<style scoped>\n",
       "    .dataframe tbody tr th:only-of-type {\n",
       "        vertical-align: middle;\n",
       "    }\n",
       "\n",
       "    .dataframe tbody tr th {\n",
       "        vertical-align: top;\n",
       "    }\n",
       "\n",
       "    .dataframe thead th {\n",
       "        text-align: right;\n",
       "    }\n",
       "</style>\n",
       "<table border=\"1\" class=\"dataframe\">\n",
       "  <thead>\n",
       "    <tr style=\"text-align: right;\">\n",
       "      <th></th>\n",
       "      <th>humidity</th>\n",
       "      <th>pressure</th>\n",
       "      <th>tempC</th>\n",
       "    </tr>\n",
       "  </thead>\n",
       "  <tbody>\n",
       "    <tr>\n",
       "      <th>0</th>\n",
       "      <td>86</td>\n",
       "      <td>1016</td>\n",
       "      <td>15</td>\n",
       "    </tr>\n",
       "    <tr>\n",
       "      <th>1</th>\n",
       "      <td>88</td>\n",
       "      <td>1016</td>\n",
       "      <td>15</td>\n",
       "    </tr>\n",
       "    <tr>\n",
       "      <th>2</th>\n",
       "      <td>90</td>\n",
       "      <td>1016</td>\n",
       "      <td>14</td>\n",
       "    </tr>\n",
       "    <tr>\n",
       "      <th>3</th>\n",
       "      <td>91</td>\n",
       "      <td>1016</td>\n",
       "      <td>14</td>\n",
       "    </tr>\n",
       "    <tr>\n",
       "      <th>4</th>\n",
       "      <td>92</td>\n",
       "      <td>1016</td>\n",
       "      <td>14</td>\n",
       "    </tr>\n",
       "  </tbody>\n",
       "</table>\n",
       "</div>"
      ],
      "text/plain": [
       "   humidity  pressure  tempC\n",
       "0        86      1016     15\n",
       "1        88      1016     15\n",
       "2        90      1016     14\n",
       "3        91      1016     14\n",
       "4        92      1016     14"
      ]
     },
     "execution_count": 4,
     "metadata": {},
     "output_type": "execute_result"
    }
   ],
   "source": [
    "X.head()"
   ]
  },
  {
   "cell_type": "code",
   "execution_count": 5,
   "id": "ada026aa",
   "metadata": {
    "execution": {
     "iopub.execute_input": "2023-06-05T08:41:34.225759Z",
     "iopub.status.busy": "2023-06-05T08:41:34.225143Z",
     "iopub.status.idle": "2023-06-05T08:41:34.231771Z",
     "shell.execute_reply": "2023-06-05T08:41:34.230802Z"
    },
    "papermill": {
     "duration": 0.016659,
     "end_time": "2023-06-05T08:41:34.234210",
     "exception": false,
     "start_time": "2023-06-05T08:41:34.217551",
     "status": "completed"
    },
    "tags": []
   },
   "outputs": [
    {
     "data": {
      "text/plain": [
       "0    0\n",
       "1    0\n",
       "2    0\n",
       "3    0\n",
       "4    0\n",
       "Name: precipMM, dtype: int64"
      ]
     },
     "execution_count": 5,
     "metadata": {},
     "output_type": "execute_result"
    }
   ],
   "source": [
    "y.head()"
   ]
  },
  {
   "cell_type": "code",
   "execution_count": 6,
   "id": "71cd35ea",
   "metadata": {
    "execution": {
     "iopub.execute_input": "2023-06-05T08:41:34.248651Z",
     "iopub.status.busy": "2023-06-05T08:41:34.248257Z",
     "iopub.status.idle": "2023-06-05T08:41:35.693885Z",
     "shell.execute_reply": "2023-06-05T08:41:35.692728Z"
    },
    "papermill": {
     "duration": 1.456102,
     "end_time": "2023-06-05T08:41:35.696666",
     "exception": false,
     "start_time": "2023-06-05T08:41:34.240564",
     "status": "completed"
    },
    "tags": []
   },
   "outputs": [],
   "source": [
    "from sklearn.model_selection import train_test_split"
   ]
  },
  {
   "cell_type": "code",
   "execution_count": 7,
   "id": "b7ce6682",
   "metadata": {
    "execution": {
     "iopub.execute_input": "2023-06-05T08:41:35.712828Z",
     "iopub.status.busy": "2023-06-05T08:41:35.712377Z",
     "iopub.status.idle": "2023-06-05T08:41:35.727338Z",
     "shell.execute_reply": "2023-06-05T08:41:35.726130Z"
    },
    "papermill": {
     "duration": 0.025431,
     "end_time": "2023-06-05T08:41:35.730105",
     "exception": false,
     "start_time": "2023-06-05T08:41:35.704674",
     "status": "completed"
    },
    "tags": []
   },
   "outputs": [],
   "source": [
    "X_train, X_test, y_train, y_test = train_test_split(X, y, test_size=0.2, shuffle=False)"
   ]
  },
  {
   "cell_type": "code",
   "execution_count": 8,
   "id": "2d007fa8",
   "metadata": {
    "execution": {
     "iopub.execute_input": "2023-06-05T08:41:35.744546Z",
     "iopub.status.busy": "2023-06-05T08:41:35.744097Z",
     "iopub.status.idle": "2023-06-05T08:41:35.748966Z",
     "shell.execute_reply": "2023-06-05T08:41:35.747694Z"
    },
    "papermill": {
     "duration": 0.014868,
     "end_time": "2023-06-05T08:41:35.751389",
     "exception": false,
     "start_time": "2023-06-05T08:41:35.736521",
     "status": "completed"
    },
    "tags": []
   },
   "outputs": [],
   "source": [
    "from sklearn.preprocessing import StandardScaler"
   ]
  },
  {
   "cell_type": "code",
   "execution_count": 9,
   "id": "a626a23e",
   "metadata": {
    "execution": {
     "iopub.execute_input": "2023-06-05T08:41:35.766538Z",
     "iopub.status.busy": "2023-06-05T08:41:35.765746Z",
     "iopub.status.idle": "2023-06-05T08:41:35.780764Z",
     "shell.execute_reply": "2023-06-05T08:41:35.779691Z"
    },
    "papermill": {
     "duration": 0.025327,
     "end_time": "2023-06-05T08:41:35.783222",
     "exception": false,
     "start_time": "2023-06-05T08:41:35.757895",
     "status": "completed"
    },
    "tags": []
   },
   "outputs": [],
   "source": [
    "# Scale the feature data\n",
    "scaler = StandardScaler()\n",
    "X_train_scaled = scaler.fit_transform(X_train)\n",
    "X_test_scaled = scaler.transform(X_test)"
   ]
  },
  {
   "cell_type": "code",
   "execution_count": 10,
   "id": "d86f6053",
   "metadata": {
    "execution": {
     "iopub.execute_input": "2023-06-05T08:41:35.798090Z",
     "iopub.status.busy": "2023-06-05T08:41:35.797367Z",
     "iopub.status.idle": "2023-06-05T08:41:45.168810Z",
     "shell.execute_reply": "2023-06-05T08:41:45.167542Z"
    },
    "papermill": {
     "duration": 9.382342,
     "end_time": "2023-06-05T08:41:45.171984",
     "exception": false,
     "start_time": "2023-06-05T08:41:35.789642",
     "status": "completed"
    },
    "tags": []
   },
   "outputs": [
    {
     "name": "stderr",
     "output_type": "stream",
     "text": [
      "/opt/conda/lib/python3.10/site-packages/tensorflow_io/python/ops/__init__.py:98: UserWarning: unable to load libtensorflow_io_plugins.so: unable to open file: libtensorflow_io_plugins.so, from paths: ['/opt/conda/lib/python3.10/site-packages/tensorflow_io/python/ops/libtensorflow_io_plugins.so']\n",
      "caused by: ['/opt/conda/lib/python3.10/site-packages/tensorflow_io/python/ops/libtensorflow_io_plugins.so: undefined symbol: _ZN3tsl6StatusC1EN10tensorflow5error4CodeESt17basic_string_viewIcSt11char_traitsIcEENS_14SourceLocationE']\n",
      "  warnings.warn(f\"unable to load libtensorflow_io_plugins.so: {e}\")\n",
      "/opt/conda/lib/python3.10/site-packages/tensorflow_io/python/ops/__init__.py:104: UserWarning: file system plugins are not loaded: unable to open file: libtensorflow_io.so, from paths: ['/opt/conda/lib/python3.10/site-packages/tensorflow_io/python/ops/libtensorflow_io.so']\n",
      "caused by: ['/opt/conda/lib/python3.10/site-packages/tensorflow_io/python/ops/libtensorflow_io.so: undefined symbol: _ZTVN10tensorflow13GcsFileSystemE']\n",
      "  warnings.warn(f\"file system plugins are not loaded: {e}\")\n"
     ]
    }
   ],
   "source": [
    "from tensorflow.keras.models import Sequential\n",
    "from tensorflow.keras.layers import Dense , Dropout\n",
    "from tensorflow.keras.optimizers import Adam"
   ]
  },
  {
   "cell_type": "code",
   "execution_count": 11,
   "id": "f4d2c7ba",
   "metadata": {
    "execution": {
     "iopub.execute_input": "2023-06-05T08:41:45.187630Z",
     "iopub.status.busy": "2023-06-05T08:41:45.186831Z",
     "iopub.status.idle": "2023-06-05T08:41:45.433206Z",
     "shell.execute_reply": "2023-06-05T08:41:45.431948Z"
    },
    "papermill": {
     "duration": 0.256622,
     "end_time": "2023-06-05T08:41:45.435428",
     "exception": false,
     "start_time": "2023-06-05T08:41:45.178806",
     "status": "completed"
    },
    "tags": []
   },
   "outputs": [
    {
     "name": "stdout",
     "output_type": "stream",
     "text": [
      "Model: \"sequential\"\n",
      "_________________________________________________________________\n",
      " Layer (type)                Output Shape              Param #   \n",
      "=================================================================\n",
      " dense (Dense)               (None, 64)                256       \n",
      "                                                                 \n",
      " dropout (Dropout)           (None, 64)                0         \n",
      "                                                                 \n",
      " dense_1 (Dense)             (None, 64)                4160      \n",
      "                                                                 \n",
      " dropout_1 (Dropout)         (None, 64)                0         \n",
      "                                                                 \n",
      " dense_2 (Dense)             (None, 1)                 65        \n",
      "                                                                 \n",
      "=================================================================\n",
      "Total params: 4,481\n",
      "Trainable params: 4,481\n",
      "Non-trainable params: 0\n",
      "_________________________________________________________________\n"
     ]
    }
   ],
   "source": [
    "model = Sequential()\n",
    "model.add(Dense(64, activation='relu', input_shape=(X_train_scaled.shape[1],)))\n",
    "model.add(Dropout(0.2))\n",
    "model.add(Dense(64, activation='relu'))\n",
    "model.add(Dropout(0.2))\n",
    "model.add(Dense(1, activation='sigmoid'))\n",
    "model.compile(optimizer='adam', loss='binary_crossentropy', metrics=['accuracy'])\n",
    "model.summary()\n"
   ]
  },
  {
   "cell_type": "code",
   "execution_count": 12,
   "id": "2619a73c",
   "metadata": {
    "execution": {
     "iopub.execute_input": "2023-06-05T08:41:45.454225Z",
     "iopub.status.busy": "2023-06-05T08:41:45.453811Z",
     "iopub.status.idle": "2023-06-05T08:43:08.538189Z",
     "shell.execute_reply": "2023-06-05T08:43:08.537185Z"
    },
    "papermill": {
     "duration": 83.180558,
     "end_time": "2023-06-05T08:43:08.624110",
     "exception": false,
     "start_time": "2023-06-05T08:41:45.443552",
     "status": "completed"
    },
    "tags": []
   },
   "outputs": [
    {
     "name": "stdout",
     "output_type": "stream",
     "text": [
      "Epoch 1/10\n",
      "2192/2192 [==============================] - 5s 2ms/step - loss: 0.3599 - accuracy: 0.8524\n",
      "Epoch 2/10\n",
      "2192/2192 [==============================] - 4s 2ms/step - loss: 0.3518 - accuracy: 0.8545\n",
      "Epoch 3/10\n",
      "2192/2192 [==============================] - 4s 2ms/step - loss: 0.3507 - accuracy: 0.8543\n",
      "Epoch 4/10\n",
      "2192/2192 [==============================] - 4s 2ms/step - loss: 0.3497 - accuracy: 0.8539\n",
      "Epoch 5/10\n",
      "2192/2192 [==============================] - 4s 2ms/step - loss: 0.3493 - accuracy: 0.8545\n",
      "Epoch 6/10\n",
      "2192/2192 [==============================] - 4s 2ms/step - loss: 0.3485 - accuracy: 0.8541\n",
      "Epoch 7/10\n",
      "2192/2192 [==============================] - 4s 2ms/step - loss: 0.3490 - accuracy: 0.8547\n",
      "Epoch 8/10\n",
      "2192/2192 [==============================] - 4s 2ms/step - loss: 0.3484 - accuracy: 0.8540\n",
      "Epoch 9/10\n",
      "2192/2192 [==============================] - 4s 2ms/step - loss: 0.3488 - accuracy: 0.8546\n",
      "Epoch 10/10\n",
      "2192/2192 [==============================] - 4s 2ms/step - loss: 0.3482 - accuracy: 0.8546\n"
     ]
    },
    {
     "data": {
      "text/plain": [
       "<keras.callbacks.History at 0x7fdcd42fd7b0>"
      ]
     },
     "execution_count": 12,
     "metadata": {},
     "output_type": "execute_result"
    }
   ],
   "source": [
    "model.fit(X_train_scaled,y_train, epochs=10, batch_size=32)"
   ]
  },
  {
   "cell_type": "code",
   "execution_count": 13,
   "id": "b008a520",
   "metadata": {
    "execution": {
     "iopub.execute_input": "2023-06-05T08:43:08.795642Z",
     "iopub.status.busy": "2023-06-05T08:43:08.795054Z",
     "iopub.status.idle": "2023-06-05T08:43:09.801990Z",
     "shell.execute_reply": "2023-06-05T08:43:09.800871Z"
    },
    "papermill": {
     "duration": 1.095979,
     "end_time": "2023-06-05T08:43:09.804424",
     "exception": false,
     "start_time": "2023-06-05T08:43:08.708445",
     "status": "completed"
    },
    "tags": []
   },
   "outputs": [
    {
     "name": "stdout",
     "output_type": "stream",
     "text": [
      "548/548 [==============================] - 1s 1ms/step - loss: 0.3599 - accuracy: 0.8488\n"
     ]
    }
   ],
   "source": [
    "loss, accuracy = model.evaluate(X_test_scaled,  y_test)"
   ]
  },
  {
   "cell_type": "code",
   "execution_count": 14,
   "id": "10281d5c",
   "metadata": {
    "execution": {
     "iopub.execute_input": "2023-06-05T08:43:09.978208Z",
     "iopub.status.busy": "2023-06-05T08:43:09.977685Z",
     "iopub.status.idle": "2023-06-05T08:43:09.983077Z",
     "shell.execute_reply": "2023-06-05T08:43:09.981773Z"
    },
    "papermill": {
     "duration": 0.096083,
     "end_time": "2023-06-05T08:43:09.985309",
     "exception": false,
     "start_time": "2023-06-05T08:43:09.889226",
     "status": "completed"
    },
    "tags": []
   },
   "outputs": [],
   "source": [
    "import tensorflow as tf"
   ]
  },
  {
   "cell_type": "code",
   "execution_count": 15,
   "id": "cf71bfe0",
   "metadata": {
    "execution": {
     "iopub.execute_input": "2023-06-05T08:43:10.158399Z",
     "iopub.status.busy": "2023-06-05T08:43:10.157992Z",
     "iopub.status.idle": "2023-06-05T08:43:10.195181Z",
     "shell.execute_reply": "2023-06-05T08:43:10.194174Z"
    },
    "papermill": {
     "duration": 0.126553,
     "end_time": "2023-06-05T08:43:10.197816",
     "exception": false,
     "start_time": "2023-06-05T08:43:10.071263",
     "status": "completed"
    },
    "tags": []
   },
   "outputs": [],
   "source": [
    "import tensorflow as tf\n",
    "from tensorflow.keras.models import save_model\n",
    "\n",
    "# Save the model\n",
    "save_model(model, 'my_model.h5')\n"
   ]
  },
  {
   "cell_type": "code",
   "execution_count": null,
   "id": "aeb09bc8",
   "metadata": {
    "papermill": {
     "duration": 0.084509,
     "end_time": "2023-06-05T08:43:10.367219",
     "exception": false,
     "start_time": "2023-06-05T08:43:10.282710",
     "status": "completed"
    },
    "tags": []
   },
   "outputs": [],
   "source": []
  }
 ],
 "metadata": {
  "kernelspec": {
   "display_name": "Python 3",
   "language": "python",
   "name": "python3"
  },
  "language_info": {
   "codemirror_mode": {
    "name": "ipython",
    "version": 3
   },
   "file_extension": ".py",
   "mimetype": "text/x-python",
   "name": "python",
   "nbconvert_exporter": "python",
   "pygments_lexer": "ipython3",
   "version": "3.10.10"
  },
  "papermill": {
   "default_parameters": {},
   "duration": 111.798442,
   "end_time": "2023-06-05T08:43:13.710358",
   "environment_variables": {},
   "exception": null,
   "input_path": "__notebook__.ipynb",
   "output_path": "__notebook__.ipynb",
   "parameters": {},
   "start_time": "2023-06-05T08:41:21.911916",
   "version": "2.4.0"
  }
 },
 "nbformat": 4,
 "nbformat_minor": 5
}
